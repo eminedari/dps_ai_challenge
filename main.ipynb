{
 "cells": [
  {
   "cell_type": "code",
   "execution_count": 3,
   "metadata": {},
   "outputs": [],
   "source": [
    "import csv\n",
    "import io\n",
    "import numpy as np"
   ]
  },
  {
   "cell_type": "code",
   "execution_count": 4,
   "metadata": {},
   "outputs": [
    {
     "name": "stdout",
     "output_type": "stream",
     "text": [
      "Columns we are interested in:\n",
      "﻿\"MONATSZAHL\", AUSPRAEGUNG, JAHR, MONAT, WERT, "
     ]
    }
   ],
   "source": [
    "file_path = \"monatszahlen2307_verkehrsunfaelle_10_07_23_nosum.csv\"\n",
    "encoding = 'utf-8'\n",
    "\n",
    "\n",
    "with io.open(file_path, mode='r', encoding=encoding) as csvfile:\n",
    "    reader = csv.reader(csvfile, delimiter=',')\n",
    "    #read column names\n",
    "    col_names = next(reader)\n",
    "    #read data\n",
    "    data = np.array(list(reader))\n",
    "\n",
    "# give each column name an id\n",
    "print(\"Columns we are interested in:\")\n",
    "col_ids = {}\n",
    "for i, col in enumerate(col_names[0:5]):\n",
    "    col_ids[col] = i\n",
    "    print(col_names[i], end=\", \")\n",
    "  \n",
    "  # keep only the first five columns\n",
    "data = data[:,0:5]"
   ]
  },
  {
   "cell_type": "code",
   "execution_count": 5,
   "metadata": {},
   "outputs": [
    {
     "name": "stdout",
     "output_type": "stream",
     "text": [
      "First five rows of data:\n",
      "[['Alkoholunfälle' 'insgesamt' '2023' '202301' '']\n",
      " ['Alkoholunfälle' 'insgesamt' '2023' '202302' '']\n",
      " ['Alkoholunfälle' 'insgesamt' '2023' '202303' '']\n",
      " ['Alkoholunfälle' 'insgesamt' '2023' '202304' '']\n",
      " ['Alkoholunfälle' 'insgesamt' '2023' '202305' '']]\n"
     ]
    }
   ],
   "source": [
    "print(\"First five rows of data:\")\n",
    "print(data[0:5,:])"
   ]
  }
 ],
 "metadata": {
  "kernelspec": {
   "display_name": "Python 3",
   "language": "python",
   "name": "python3"
  },
  "language_info": {
   "codemirror_mode": {
    "name": "ipython",
    "version": 3
   },
   "file_extension": ".py",
   "mimetype": "text/x-python",
   "name": "python",
   "nbconvert_exporter": "python",
   "pygments_lexer": "ipython3",
   "version": "3.11.5"
  }
 },
 "nbformat": 4,
 "nbformat_minor": 2
}
