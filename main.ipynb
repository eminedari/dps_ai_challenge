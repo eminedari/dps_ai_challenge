{
 "cells": [
  {
   "cell_type": "code",
   "execution_count": 8,
   "metadata": {},
   "outputs": [],
   "source": [
    "import csv\n",
    "import io\n",
    "import numpy as np\n",
    "from sklearn.preprocessing import LabelEncoder"
   ]
  },
  {
   "cell_type": "code",
   "execution_count": 4,
   "metadata": {},
   "outputs": [
    {
     "name": "stdout",
     "output_type": "stream",
     "text": [
      "Columns we are interested in:\n",
      "﻿\"MONATSZAHL\", AUSPRAEGUNG, JAHR, MONAT, WERT, "
     ]
    }
   ],
   "source": [
    "file_path = \"monatszahlen2307_verkehrsunfaelle_10_07_23_nosum.csv\"\n",
    "encoding = 'utf-8'\n",
    "\n",
    "with io.open(file_path, mode='r', encoding=encoding) as csvfile:\n",
    "    reader = csv.reader(csvfile, delimiter=',')\n",
    "    #read column names\n",
    "    col_names = next(reader)\n",
    "    #read data\n",
    "    data = np.array(list(reader))\n",
    "\n",
    "# give each column name an id\n",
    "print(\"Columns we are interested in:\")\n",
    "col_ids = {}\n",
    "for i, col in enumerate(col_names[0:5]):\n",
    "    col_ids[col] = i\n",
    "    print(col_names[i], end=\", \")\n",
    "  \n",
    "  # keep only the first five columns\n",
    "data = data[:,0:5]"
   ]
  },
  {
   "cell_type": "code",
   "execution_count": 5,
   "metadata": {},
   "outputs": [
    {
     "name": "stdout",
     "output_type": "stream",
     "text": [
      "First five rows of data:\n",
      "[['Alkoholunfälle' 'insgesamt' '2023' '202301' '']\n",
      " ['Alkoholunfälle' 'insgesamt' '2023' '202302' '']\n",
      " ['Alkoholunfälle' 'insgesamt' '2023' '202303' '']\n",
      " ['Alkoholunfälle' 'insgesamt' '2023' '202304' '']\n",
      " ['Alkoholunfälle' 'insgesamt' '2023' '202305' '']]\n"
     ]
    }
   ],
   "source": [
    "print(\"First five rows of data:\")\n",
    "print(data[0:5,:])"
   ]
  },
  {
   "cell_type": "code",
   "execution_count": 6,
   "metadata": {},
   "outputs": [
    {
     "name": "stdout",
     "output_type": "stream",
     "text": [
      "['Alkoholunfälle' 'Fluchtunfälle' 'Verkehrsunfälle']\n",
      "['Verletzte und Getötete' 'insgesamt' 'mit Personenschäden']\n"
     ]
    }
   ],
   "source": [
    "# find unique entries\n",
    "categories = np.unique(data[:,0])\n",
    "types = np.unique(data[:,1])\n",
    "print(categories)\n",
    "print(types)"
   ]
  },
  {
   "cell_type": "code",
   "execution_count": 9,
   "metadata": {},
   "outputs": [
    {
     "name": "stdout",
     "output_type": "stream",
     "text": [
      "Encoded categories of accidents: {'Alkoholunfälle': 0, 'Fluchtunfälle': 1, 'Verkehrsunfälle': 2}\n",
      "Encoded types of accidents: {'Verletzte und Getötete': 0, 'insgesamt': 1, 'mit Personenschäden': 2}\n"
     ]
    }
   ],
   "source": [
    "# encode categorical data\n",
    "le_1 = LabelEncoder()\n",
    "le_2 = LabelEncoder()\n",
    "\n",
    "data[:,0] = le_1.fit_transform(data[:,0])\n",
    "data[:,1] = le_2.fit_transform(data[:,1])\n",
    "\n",
    "categories_mapping = dict(zip(le_1.classes_, range(0, len(le_1.classes_))))\n",
    "types_mapping = dict(zip(le_2.classes_, range(0, len(le_2.classes_))))\n",
    "\n",
    "print(\"Encoded categories of accidents:\",categories_mapping)\n",
    "print(\"Encoded types of accidents:\",types_mapping)"
   ]
  }
 ],
 "metadata": {
  "kernelspec": {
   "display_name": "Python 3",
   "language": "python",
   "name": "python3"
  },
  "language_info": {
   "codemirror_mode": {
    "name": "ipython",
    "version": 3
   },
   "file_extension": ".py",
   "mimetype": "text/x-python",
   "name": "python",
   "nbconvert_exporter": "python",
   "pygments_lexer": "ipython3",
   "version": "3.11.5"
  }
 },
 "nbformat": 4,
 "nbformat_minor": 2
}
